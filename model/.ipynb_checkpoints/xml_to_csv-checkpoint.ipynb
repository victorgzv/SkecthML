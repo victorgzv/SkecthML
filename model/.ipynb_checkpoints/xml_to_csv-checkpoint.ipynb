{
 "cells": [
  {
   "cell_type": "code",
   "execution_count": 20,
   "metadata": {},
   "outputs": [
    {
     "name": "stdout",
     "output_type": "stream",
     "text": [
      "['test_images', 'training_data', 'records', '.DS_Store', 'label_map.pbtxt', 'experiments', 'training_images']\n"
     ]
    }
   ],
   "source": [
    "import os\n",
    "import glob\n",
    "import cv2\n",
    "import numpy as np # linear algebra\n",
    "import pandas as pd # data processing, CSV file I/O (e.g. pd.read_csv)\n",
    "from pathlib import Path\n",
    "from os import listdir, makedirs, getcwd, remove\n",
    "from os.path import isfile, join, abspath, exists, isdir, expanduser\n",
    "from skimage.io import imread\n",
    "from PIL import Image\n",
    "import xml.etree.ElementTree as ET\n",
    "from sklearn.model_selection import train_test_split\n",
    "np.random.seed(111)\n",
    "import matplotlib.pyplot as plt\n",
    "import seaborn as sns\n",
    "color = sns.color_palette()\n",
    "%matplotlib inline\n",
    "\n",
    "# Input data files are available in the \"../input/\" directory.\n",
    "# For example, running this (by clicking run or pressing Shift+Enter) will list the files in the input directory\n",
    "\n",
    "import os\n",
    "print(os.listdir(\"sketchML\"))"
   ]
  },
  {
   "cell_type": "code",
   "execution_count": 9,
   "metadata": {},
   "outputs": [],
   "source": [
    "# A function to parse the xmls\n",
    "def parse_xmls(xml_files):\n",
    "    data = []\n",
    "    # Iterate over each file\n",
    "    for sample in xml_files:\n",
    "        # Get the xml tree\n",
    "        tree = ET.parse(sample)\n",
    "\n",
    "        # Get the root\n",
    "        root = tree.getroot()\n",
    "\n",
    "        # Get the members and extract the values\n",
    "        for member in root.findall('object'):\n",
    "            # Name of the image file\n",
    "            filename = root.find('filename').text\n",
    "            \n",
    "            # Height and width of the image\n",
    "            width =  int((root.find('size')).find('width').text)\n",
    "            height = int((root.find('size')).find('height').text)\n",
    "            \n",
    "            # Bounding box coordinates\n",
    "            bndbox = member.find('bndbox')\n",
    "            xmin = float(bndbox.find('xmin').text)\n",
    "            xmax = float(bndbox.find('xmax').text)\n",
    "            ymin = float(bndbox.find('ymin').text)\n",
    "            ymax = float(bndbox.find('ymax').text)\n",
    "            \n",
    "            # label to the corresponding bounding box\n",
    "            label =  member.find('name').text\n",
    "\n",
    "            data.append((filename, width, height, label, xmin, ymin, xmax, ymax))\n",
    "    \n",
    "    # Create a pandas dataframe\n",
    "    columns_name = ['filename', 'width', 'height', 'class', 'xmin', 'ymin', 'xmax', 'ymax']\n",
    "    df = pd.DataFrame(data=data, columns=columns_name)\n",
    "\n",
    "    return df"
   ]
  },
  {
   "cell_type": "code",
   "execution_count": 12,
   "metadata": {},
   "outputs": [
    {
     "name": "stdout",
     "output_type": "stream",
     "text": [
      "Total number of images:  139\n",
      "Total number of xmls:  139\n"
     ]
    }
   ],
   "source": [
    "images = sorted(glob.glob('sketchML/training_images/*.jpg'))\n",
    "xmls = sorted(glob.glob('sketchML/training_images/*.xml'))\n",
    "print(\"Total number of images: \", len(images))\n",
    "print(\"Total number of xmls: \", len(xmls))"
   ]
  },
  {
   "cell_type": "code",
   "execution_count": 13,
   "metadata": {},
   "outputs": [
    {
     "data": {
      "text/html": [
       "<div>\n",
       "<style scoped>\n",
       "    .dataframe tbody tr th:only-of-type {\n",
       "        vertical-align: middle;\n",
       "    }\n",
       "\n",
       "    .dataframe tbody tr th {\n",
       "        vertical-align: top;\n",
       "    }\n",
       "\n",
       "    .dataframe thead th {\n",
       "        text-align: right;\n",
       "    }\n",
       "</style>\n",
       "<table border=\"1\" class=\"dataframe\">\n",
       "  <thead>\n",
       "    <tr style=\"text-align: right;\">\n",
       "      <th></th>\n",
       "      <th>filename</th>\n",
       "      <th>width</th>\n",
       "      <th>height</th>\n",
       "      <th>class</th>\n",
       "      <th>xmin</th>\n",
       "      <th>ymin</th>\n",
       "      <th>xmax</th>\n",
       "      <th>ymax</th>\n",
       "    </tr>\n",
       "  </thead>\n",
       "  <tbody>\n",
       "    <tr>\n",
       "      <th>0</th>\n",
       "      <td>0.jpg</td>\n",
       "      <td>900</td>\n",
       "      <td>1200</td>\n",
       "      <td>label</td>\n",
       "      <td>108.0</td>\n",
       "      <td>550.0</td>\n",
       "      <td>566.0</td>\n",
       "      <td>638.0</td>\n",
       "    </tr>\n",
       "    <tr>\n",
       "      <th>1</th>\n",
       "      <td>0.jpg</td>\n",
       "      <td>900</td>\n",
       "      <td>1200</td>\n",
       "      <td>label</td>\n",
       "      <td>107.0</td>\n",
       "      <td>664.0</td>\n",
       "      <td>488.0</td>\n",
       "      <td>732.0</td>\n",
       "    </tr>\n",
       "    <tr>\n",
       "      <th>2</th>\n",
       "      <td>0.jpg</td>\n",
       "      <td>900</td>\n",
       "      <td>1200</td>\n",
       "      <td>text_input</td>\n",
       "      <td>107.0</td>\n",
       "      <td>732.0</td>\n",
       "      <td>750.0</td>\n",
       "      <td>829.0</td>\n",
       "    </tr>\n",
       "    <tr>\n",
       "      <th>3</th>\n",
       "      <td>0.jpg</td>\n",
       "      <td>900</td>\n",
       "      <td>1200</td>\n",
       "      <td>text_input</td>\n",
       "      <td>647.0</td>\n",
       "      <td>935.0</td>\n",
       "      <td>824.0</td>\n",
       "      <td>1019.0</td>\n",
       "    </tr>\n",
       "    <tr>\n",
       "      <th>4</th>\n",
       "      <td>1.jpg</td>\n",
       "      <td>1600</td>\n",
       "      <td>404</td>\n",
       "      <td>label</td>\n",
       "      <td>31.0</td>\n",
       "      <td>14.0</td>\n",
       "      <td>321.0</td>\n",
       "      <td>108.0</td>\n",
       "    </tr>\n",
       "  </tbody>\n",
       "</table>\n",
       "</div>"
      ],
      "text/plain": [
       "  filename  width  height       class   xmin   ymin   xmax    ymax\n",
       "0    0.jpg    900    1200       label  108.0  550.0  566.0   638.0\n",
       "1    0.jpg    900    1200       label  107.0  664.0  488.0   732.0\n",
       "2    0.jpg    900    1200  text_input  107.0  732.0  750.0   829.0\n",
       "3    0.jpg    900    1200  text_input  647.0  935.0  824.0  1019.0\n",
       "4    1.jpg   1600     404       label   31.0   14.0  321.0   108.0"
      ]
     },
     "execution_count": 13,
     "metadata": {},
     "output_type": "execute_result"
    }
   ],
   "source": [
    "# Parse the xmls and get the data in a dataframe\n",
    "df = parse_xmls(xmls)\n",
    "df.head()"
   ]
  },
  {
   "cell_type": "code",
   "execution_count": 22,
   "metadata": {},
   "outputs": [
    {
     "name": "stdout",
     "output_type": "stream",
     "text": [
      "label         580\n",
      "text_input    148\n",
      "Name: class, dtype: int64\n"
     ]
    },
    {
     "data": {
      "image/png": "[encoded data removed]",
      "text/plain": [
       "<Figure size 1440x576 with 1 Axes>"
      ]
     },
     "metadata": {
      "needs_background": "light"
     },
     "output_type": "display_data"
    }
   ],
   "source": [
    "# How many classes do we have for object detection?\n",
    "label_counts = df['class'].value_counts()\n",
    "print(label_counts)\n",
    "\n",
    "plt.figure(figsize=(20,8))\n",
    "sns.barplot(x=label_counts.index, y= label_counts.values, color=color[2])\n",
    "plt.title('Labels in our dataset', fontsize=14)\n",
    "plt.xlabel('Label', fontsize=12)\n",
    "plt.ylabel('Count', fontsize=12)\n",
    "plt.xticks(range(len(label_counts.index)), ['label', 'text_input'])\n",
    "plt.show()"
   ]
  },
  {
   "cell_type": "code",
   "execution_count": null,
   "metadata": {},
   "outputs": [],
   "source": []
  },
  {
   "cell_type": "code",
   "execution_count": null,
   "metadata": {},
   "outputs": [],
   "source": []
  }
 ],
 "metadata": {
  "kernelspec": {
   "display_name": "Python 3",
   "language": "python",
   "name": "python3"
  },
  "language_info": {
   "codemirror_mode": {
    "name": "ipython",
    "version": 3
   },
   "file_extension": ".py",
   "mimetype": "text/x-python",
   "name": "python",
   "nbconvert_exporter": "python",
   "pygments_lexer": "ipython3",
   "version": "3.6.7"
  }
 },
 "nbformat": 4,
 "nbformat_minor": 2
}
